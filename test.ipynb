{
 "cells": [
  {
   "cell_type": "code",
   "execution_count": 1,
   "metadata": {
    "hide_input": false
   },
   "outputs": [],
   "source": [
    "import start\n",
    "url = ! curl -s http://localhost:4040/api/tunnels | python3 -c \\\n",
    "    \"import sys, json; print(json.load(sys.stdin)['tunnels'][0]['public_url'])\"\n",
    "url = url[0]"
   ]
  },
  {
   "cell_type": "markdown",
   "metadata": {
    "variables": {
     "url": "&#39;<a href=\"https://17e5041a.ngrok.io&#39;\">https://17e5041a.ngrok.io&#39;</a>"
    }
   },
   "source": [
    "# Click on the Link to Start Visualization\n",
    "{{url}}"
   ]
  },
  {
   "cell_type": "code",
   "execution_count": 2,
   "metadata": {},
   "outputs": [
    {
     "name": "stdout",
     "output_type": "stream",
     "text": [
      "http://17e5041a.ngrok.io\n"
     ]
    }
   ],
   "source": [
    "print(url)"
   ]
  },
  {
   "cell_type": "code",
   "execution_count": 4,
   "metadata": {},
   "outputs": [
    {
     "name": "stdout",
     "output_type": "stream",
     "text": [
      "If you see <IPython.core.display.Javascript object> below, this notebook is not trusted.\n",
      "As a consequence Autorun cannot work.\n",
      "Run \"from notebook_autorun import Autorun; Autorun.info()\" for more info.\n"
     ]
    },
    {
     "data": {
      "application/javascript": [
       "\n",
       "\"use strict\";\n",
       "\n",
       "console.log('start main');\n",
       "\n",
       "require([\n",
       "\t'jquery',\n",
       "\t'base/js/dialog',\n",
       "\t'base/js/events',\n",
       "\t'base/js/namespace',\n",
       "\t'notebook/js/celltoolbar',\n",
       "\t'notebook/js/codecell',\n",
       "\t'base/js/promises'\n",
       "], function (\n",
       "\t$,\n",
       "\tdialog,\n",
       "\tevents,\n",
       "\tJupyter,\n",
       "\tcelltoolbar,\n",
       "\tcodecell,\n",
       "\tpromises\n",
       ") {\n",
       "\t\tevents.on('kernel_ready.Kernel', function () {\n",
       "\t\t\tconsole.log('start autorun');\n",
       "\t\t\tif (Jupyter.notebook.trusted) {\n",
       "\t\t\t\t// notebook is trusted js can run\n",
       "\t\t\t\tconsole.log('notebook is trusted');\n",
       "\t\t\t\tlet nbCells = Jupyter.notebook.get_cells(),\n",
       "\t\t\t\t\tarrCells;\n",
       "\t\t\t\twindow.debugNbCells = nbCells;\n",
       "\n",
       "\t\t\t\t\n",
       "\t\t\t\t\n",
       "\n",
       "let getCellsFromString = function(strCells, nbCells) {\n",
       "\t//strCells contains a Python string representing a list\n",
       "\n",
       "\tlet arrCell = [];\n",
       "\tif (strCells.indexOf(':') > -1) {\n",
       "\n",
       "\t\tlet listCell = strCells.split(':'),\n",
       "\t\t\tstart,\n",
       "\t\t\tend,\n",
       "\t\t\tstep;\n",
       "\n",
       "\t\tif (listCell.length == 2) {\n",
       "\t\t\t[start, end] = listCell;\n",
       "\t\t\tstep = 1;\n",
       "\t\t}\n",
       "\t\telse if (listCell.length == 3) {\n",
       "\t\t\t[start, end, step] = listCell;\n",
       "\t\t}\n",
       "\n",
       "\t\tstart = start !== '' ? parseInt(start) : 0;\n",
       "\t\tend = end !== '' ? parseInt(end) : nbCells.length;\n",
       "\t\tstep = step !== '' ? parseInt(step) : 1;\n",
       "\n",
       "\t\tstart = start >= 0 ? start : transformNegativeIndex(start, nbCells);\n",
       "\t\tend = end >= 0 ? end : transformNegativeIndex(end, nbCells);\n",
       "\n",
       "\t\tlet increasingOrder = ((start < end) && (step > 0));\n",
       "\t\tlet decreasingOrder = ((start > end) && (step < 0));\n",
       "\n",
       "\t\tlet i;\n",
       "\t\tif (increasingOrder) {\n",
       "\t\t\tfor (i = start; i < end; i += step) {\n",
       "\t\t\t\tarrCell.push(i);\n",
       "\t\t\t}\n",
       "\t\t}\n",
       "\t\telse if (decreasingOrder) {\n",
       "\t\t\tfor (i = start; i > end; i += step) {\n",
       "\t\t\t\tarrCell.push(i);\n",
       "\t\t\t}\n",
       "\t\t}\n",
       "\t}\n",
       "\telse {\n",
       "\t\tarrCell = strCells.split(',');\n",
       "\t\tarrCell = arrCell.map(e => {\n",
       "\t\t\tlet v = parseInt(e);\n",
       "\t\t\tlet idx = v >=0 ? v : transformNegativeIndex(v, nbCells);\n",
       "\t\t\treturn idx;\n",
       "\t\t});\n",
       "\t}\n",
       "\treturn arrCell;\n",
       "};\n",
       "\n",
       "let transformNegativeIndex = function(negIndex, nbCells){\n",
       "\treturn nbCells.length + negIndex;\n",
       "};\n",
       "\t\t\t\tconsole.log('str_cells=' + '1,2,3');\n",
       "\t\t\t\tarrCells = getCellsFromString('1,2,3', nbCells);\n",
       "\t\t\t\t\n",
       "\n",
       "\t\t\t\t\n",
       "\n",
       "\t\t\t\t\n",
       "\n",
       "\t\t\t\tconsole.log(arrCells);\n",
       "\t\t\t\tfor (let i of arrCells) {\n",
       "\t\t\t\t\tlet nbCell = nbCells[i];\n",
       "\t\t\t\t\tif (nbCell) {\n",
       "\t\t\t\t\t\tconsole.log('execute cell ' + i);\n",
       "\t\t\t\t\t\tnbCell.execute();\n",
       "\t\t\t\t\t}\n",
       "\t\t\t\t\telse {\n",
       "\t\t\t\t\t\tconsole.log('cell ' + i + ' does not exist');\n",
       "\t\t\t\t\t}\n",
       "\t\t\t\t}\n",
       "\n",
       "\t\t\t\t\n",
       "\n",
       "\t\t\t}\n",
       "\t\t\telse {\n",
       "\t\t\t\t// notebook is not trusted let the user know about it\n",
       "\t\t\t\t// by definition this should never happen as\n",
       "\t\t\t\t// js cannot run if notebook not trustee\n",
       "\t\t\t\tconsole.log('notebook is not trusted');\n",
       "\t\t\t\tconsole.log('nothing is done');\n",
       "\t\t\t}\n",
       "\t\t});\n",
       "\n",
       "\n",
       "\n",
       "\n",
       "\t});\n",
       "\n",
       "console.log('end main');"
      ],
      "text/plain": [
       "<IPython.core.display.Javascript object>"
      ]
     },
     "metadata": {},
     "output_type": "display_data"
    },
    {
     "data": {
      "text/markdown": [
       "This output cell contains **notebook-autorun** settings:  \n",
       "```json\n",
       "   {\"str_cells\": \"1,2,3\"}  \n",
       "```"
      ],
      "text/plain": [
       "<IPython.core.display.Markdown object>"
      ]
     },
     "metadata": {},
     "output_type": "display_data"
    }
   ],
   "source": [
    "from notebook_autorun import Autorun\n",
    "# example\n",
    "cells = [1, 2,3]\n",
    "Autorun(cells=cells).add_js()\n",
    "# (0-indexed) cells 2, 3 will be run at notebook start "
   ]
  },
  {
   "cell_type": "code",
   "execution_count": null,
   "metadata": {},
   "outputs": [],
   "source": []
  }
 ],
 "metadata": {
  "kernelspec": {
   "display_name": "Python 3",
   "language": "python",
   "name": "python3"
  },
  "language_info": {
   "codemirror_mode": {
    "name": "ipython",
    "version": 3
   },
   "file_extension": ".py",
   "mimetype": "text/x-python",
   "name": "python",
   "nbconvert_exporter": "python",
   "pygments_lexer": "ipython3",
   "version": "3.6.6"
  }
 },
 "nbformat": 4,
 "nbformat_minor": 2
}
